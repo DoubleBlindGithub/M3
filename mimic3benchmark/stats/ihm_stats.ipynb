{
 "cells": [
  {
   "cell_type": "code",
   "execution_count": 16,
   "metadata": {},
   "outputs": [],
   "source": [
    "from __future__ import absolute_import\n",
    "from __future__ import print_function\n",
    "\n",
    "import os\n",
    "import argparse\n",
    "import pandas as pd\n",
    "import random\n",
    "import csv\n",
    "random.seed(49297)\n",
    "import matplotlib.pyplot as plt\n",
    "%matplotlib inline"
   ]
  },
  {
   "cell_type": "code",
   "execution_count": 17,
   "metadata": {},
   "outputs": [],
   "source": [
    "output_path = '../../data/in-hospital-mortality'\n",
    "root_path = '../../data/root'"
   ]
  },
  {
   "cell_type": "code",
   "execution_count": 216,
   "metadata": {},
   "outputs": [],
   "source": [
    "def get_detailed_stats(partition, n_hours = 24):\n",
    "    output_dir = os.path.join(output_path, str(n_hours), partition)\n",
    "    if not os.path.exists(output_dir):\n",
    "        os.mkdir(output_dir)\n",
    "    all_stays_df = pd.read_csv(os.path.join(root_path, 'all_stays.csv'))\n",
    "    adms_df = pd.read_csv('../../data/ADMISSIONS.csv')\n",
    "\n",
    "#     ethinicity = all_stays_df['ETHNICITY'].value_counts()\n",
    "#     gender = all_stays_df['GENDER'].value_counts()\n",
    "#     ax = ethinicity.plot.bar(x='ethinic groups', y='counts', rot=0, figsize=(25,25))\n",
    "#     plt.setp(ax.get_xticklabels(), rotation=30, horizontalalignment='right')\n",
    "#     ax = gender.plot.bar(x='gender groups', y='counts', rot=0, figsize=(5,5))\n",
    "#     plt.setp(ax.get_xticklabels(), rotation=30, horizontalalignment='right')\n",
    "    \n",
    "    patients_all = list(filter(str.isdigit, os.listdir(output_dir)))\n",
    "    gender_groups_all, gender_groups_positive = {},{}\n",
    "    race_groups_positive, race_groups_all = {},{}\n",
    "    admission_type_all,admission_type_positive = {},{}\n",
    "    with open(os.path.join(output_dir,'listfile.csv')) as csvfile:\n",
    "        f = csv.reader(csvfile)\n",
    "        for row in f:\n",
    "            patient = row[0].split('.')[0].split('_')[0]\n",
    "            if patient == 'stay':\n",
    "                continue\n",
    "            \n",
    "            label = row[1]\n",
    "            \n",
    "            #gender = all_stays_df.loc[all_stays_df.ICUSTAY_ID == int(icu_stay), 'GENDER'].iloc[0]\n",
    "            gender = all_stays_df[all_stays_df['SUBJECT_ID'] == int(patient)]['GENDER'].values[0]\n",
    "            #print(gender)\n",
    "            race = all_stays_df[all_stays_df['SUBJECT_ID'] == int(patient)]['ETHNICITY'].values[0]\n",
    "            admission_type = adms_df[adms_df['SUBJECT_ID'] == int(patient)]['ADMISSION_TYPE'].values[0]\n",
    "            \n",
    "            if race not in race_groups_all:\n",
    "                race_groups_all[race] = 1\n",
    "            else:\n",
    "                race_groups_all[race]+=1\n",
    "                \n",
    "            if gender not in gender_groups_all:\n",
    "                gender_groups_all[gender] = 1\n",
    "            else:\n",
    "                gender_groups_all[gender]+=1\n",
    "            if admission_type not in admission_type_all:\n",
    "                admission_type_all[admission_type] =1\n",
    "            else:\n",
    "                admission_type_all[admission_type]+=1\n",
    "            \n",
    "\n",
    "            if label == '1':\n",
    "                if gender not in gender_groups_positive:\n",
    "                    gender_groups_positive[gender] = 1\n",
    "                else:\n",
    "                    gender_groups_positive[gender]+=1\n",
    "                if race not in race_groups_positive:\n",
    "                    race_groups_positive[race] =1\n",
    "                else:\n",
    "                    race_groups_positive[race]+=1\n",
    "                if admission_type not in admission_type_positive:\n",
    "                    admission_type_positive[admission_type]=1\n",
    "                else:\n",
    "                    admission_type_positive[admission_type]+=1\n",
    "                \n",
    "                    \n",
    "                    \n",
    "        race_positive_percent = {}\n",
    "        gender_positive_percent = {}\n",
    "        adm_type_percent = {}\n",
    "        \n",
    "        for key in race_groups_positive:\n",
    "            race_positive_percent[key] = race_groups_positive[key]/race_groups_all[key]\n",
    "        race_positive_percent= {k: v for k, v in sorted(race_positive_percent.items(), key=lambda item: item[1])}\n",
    "        \n",
    "        for key in gender_groups_positive:\n",
    "            gender_positive_percent[key] = gender_groups_positive[key]/gender_groups_all[key]\n",
    "        gender_positive_percent= {k: v for k, v in sorted(gender_positive_percent.items(), key=lambda item: item[1])}\n",
    "        \n",
    "        for key in admission_type_positive:\n",
    "            adm_type_percent[key] = admission_type_positive[key]/admission_type_all[key]\n",
    "        adm_type_percent= {k: v for k, v in sorted(adm_type_percent.items(), key=lambda item: item[1])}\n",
    "        \n",
    "    print('positive patient is', gender_positive_percent)\n",
    "    print('race positive percent', race_positive_percent)\n",
    "    print('admission type', adm_type_percent)\n",
    "    "
   ]
  },
  {
   "cell_type": "code",
   "execution_count": 218,
   "metadata": {},
   "outputs": [
    {
     "name": "stdout",
     "output_type": "stream",
     "text": [
      "positive patient is {'M': 0.08798929407828705, 'F': 0.10423026602703882}\n",
      "race positive percent {'HISPANIC OR LATINO': 0.04225352112676056, 'PATIENT DECLINED TO ANSWER': 0.045454545454545456, 'OTHER': 0.07291666666666667, 'BLACK/AFRICAN AMERICAN': 0.07708779443254818, 'ASIAN - ASIAN INDIAN': 0.09090909090909091, 'WHITE': 0.09307875894988067, 'ASIAN': 0.10294117647058823, 'HISPANIC/LATINO - PUERTO RICAN': 0.1111111111111111, 'UNKNOWN/NOT SPECIFIED': 0.13747228381374724, 'HISPANIC/LATINO - DOMINICAN': 0.14285714285714285, 'WHITE - OTHER EUROPEAN': 0.14285714285714285, 'WHITE - RUSSIAN': 0.15, 'MULTI RACE ETHNICITY': 0.15384615384615385, 'ASIAN - CHINESE': 0.16666666666666666, 'UNABLE TO OBTAIN': 0.17391304347826086, 'BLACK/HAITIAN': 0.2, 'ASIAN - OTHER': 0.3333333333333333, 'AMERICAN INDIAN/ALASKA NATIVE FEDERALLY RECOGNIZED TRIBE': 0.5, 'NATIVE HAWAIIAN OR OTHER PACIFIC ISLANDER': 0.5}\n",
      "admission type {'ELECTIVE': 0.03397508493771234, 'URGENT': 0.10416666666666667, 'EMERGENCY': 0.10740305522914219}\n"
     ]
    }
   ],
   "source": [
    "get_detailed_stats('test')"
   ]
  },
  {
   "cell_type": "code",
   "execution_count": null,
   "metadata": {},
   "outputs": [],
   "source": []
  }
 ],
 "metadata": {
  "kernelspec": {
   "display_name": "Python 3",
   "language": "python",
   "name": "python3"
  },
  "language_info": {
   "codemirror_mode": {
    "name": "ipython",
    "version": 3
   },
   "file_extension": ".py",
   "mimetype": "text/x-python",
   "name": "python",
   "nbconvert_exporter": "python",
   "pygments_lexer": "ipython3",
   "version": "3.6.7"
  }
 },
 "nbformat": 4,
 "nbformat_minor": 2
}
